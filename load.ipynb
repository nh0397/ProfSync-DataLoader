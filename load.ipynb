{
 "cells": [
  {
   "cell_type": "markdown",
   "metadata": {},
   "source": [
    "### Import the required libraries"
   ]
  },
  {
   "cell_type": "code",
   "execution_count": 22,
   "metadata": {},
   "outputs": [],
   "source": [
    "from dotenv import load_dotenv\n",
    "load_dotenv()\n",
    "import os \n",
    "import google.generativeai as genai\n",
    "from pinecone import Pinecone, ServerlessSpec\n",
    "from os.path import join, dirname\n",
    "import json"
   ]
  },
  {
   "cell_type": "markdown",
   "metadata": {},
   "source": [
    "### Make a connection with the Gemini API"
   ]
  },
  {
   "cell_type": "code",
   "execution_count": 18,
   "metadata": {},
   "outputs": [],
   "source": [
    "genai.configure(api_key=os.getenv(\"GOOGLE_API_KEY\"))"
   ]
  },
  {
   "cell_type": "markdown",
   "metadata": {},
   "source": [
    "### Make connection with Pinecone"
   ]
  },
  {
   "cell_type": "code",
   "execution_count": 19,
   "metadata": {},
   "outputs": [],
   "source": [
    "pc = Pinecone(api_key= os.getenv(\"PINECONE_API_KEY\"))\n"
   ]
  },
  {
   "cell_type": "code",
   "execution_count": 21,
   "metadata": {},
   "outputs": [],
   "source": [
    "pc.create_index(\n",
    "    name='rag',\n",
    "    dimension=768,\n",
    "    metric='cosine',\n",
    "    spec=ServerlessSpec(\n",
    "        cloud='aws',\n",
    "        region='us-east-1'\n",
    "    )\n",
    ")"
   ]
  },
  {
   "cell_type": "code",
   "execution_count": 23,
   "metadata": {},
   "outputs": [],
   "source": [
    "data = json.load(open('reviews.json'))"
   ]
  },
  {
   "cell_type": "code",
   "execution_count": 26,
   "metadata": {},
   "outputs": [
    {
     "data": {
      "text/plain": [
       "{'reviews': [{'professor': 'Dr. John Doe',\n",
       "   'subject': 'Physics',\n",
       "   'stars': 4,\n",
       "   'review': 'Engaging lectures and clear explanations. Sometimes a bit fast-paced.'},\n",
       "  {'professor': 'Dr. Jane Smith',\n",
       "   'subject': 'Mathematics',\n",
       "   'stars': 5,\n",
       "   'review': 'Incredibly knowledgeable and helpful during office hours.'},\n",
       "  {'professor': 'Dr. Alan Brown',\n",
       "   'subject': 'Chemistry',\n",
       "   'stars': 3,\n",
       "   'review': 'Challenging exams but fair grading. Lectures can be dry.'},\n",
       "  {'professor': 'Dr. Emma Davis',\n",
       "   'subject': 'Biology',\n",
       "   'stars': 4,\n",
       "   'review': 'Interesting course with plenty of hands-on activities.'},\n",
       "  {'professor': 'Dr. Michael Johnson',\n",
       "   'subject': 'History',\n",
       "   'stars': 2,\n",
       "   'review': 'Lectures are monotonous, but the material is important.'},\n",
       "  {'professor': 'Dr. Linda Wilson',\n",
       "   'subject': 'English',\n",
       "   'stars': 5,\n",
       "   'review': 'Passionate about literature, makes every class engaging.'},\n",
       "  {'professor': 'Dr. Robert Lee',\n",
       "   'subject': 'Computer Science',\n",
       "   'stars': 4,\n",
       "   'review': 'Challenging projects, but very rewarding.'},\n",
       "  {'professor': 'Dr. Sarah Kim',\n",
       "   'subject': 'Psychology',\n",
       "   'stars': 3,\n",
       "   'review': 'Interesting material, but lectures are sometimes disorganized.'},\n",
       "  {'professor': 'Dr. David White',\n",
       "   'subject': 'Economics',\n",
       "   'stars': 4,\n",
       "   'review': 'Good at breaking down complex concepts, but fast-paced.'},\n",
       "  {'professor': 'Dr. Karen Martinez',\n",
       "   'subject': 'Sociology',\n",
       "   'stars': 5,\n",
       "   'review': 'Very approachable and makes difficult topics easy to understand.'},\n",
       "  {'professor': 'Dr. James Brown',\n",
       "   'subject': 'Philosophy',\n",
       "   'stars': 2,\n",
       "   'review': 'Philosophical debates are interesting, but grading is tough.'},\n",
       "  {'professor': 'Dr. Susan Anderson',\n",
       "   'subject': 'Political Science',\n",
       "   'stars': 3,\n",
       "   'review': 'Knowledgeable but lectures can be repetitive.'},\n",
       "  {'professor': 'Dr. Charles Thomas',\n",
       "   'subject': 'Art History',\n",
       "   'stars': 4,\n",
       "   'review': 'Provides great insights into the subject, but workload is heavy.'},\n",
       "  {'professor': 'Dr. Patricia Harris',\n",
       "   'subject': 'Music',\n",
       "   'stars': 5,\n",
       "   'review': 'Very talented and enthusiastic about music theory.'},\n",
       "  {'professor': 'Dr. Barbara Clark',\n",
       "   'subject': 'Environmental Science',\n",
       "   'stars': 4,\n",
       "   'review': 'Hands-on fieldwork is a highlight of the course.'},\n",
       "  {'professor': 'Dr. Christopher Lewis',\n",
       "   'subject': 'Anthropology',\n",
       "   'stars': 3,\n",
       "   'review': 'Content is interesting but lectures are too long.'},\n",
       "  {'professor': 'Dr. Mary Robinson',\n",
       "   'subject': 'Physics',\n",
       "   'stars': 4,\n",
       "   'review': \"Explains difficult concepts well but doesn't provide many examples.\"},\n",
       "  {'professor': 'Dr. Richard King',\n",
       "   'subject': 'Mathematics',\n",
       "   'stars': 5,\n",
       "   'review': 'Excellent at clarifying difficult topics, very patient.'},\n",
       "  {'professor': 'Dr. Jennifer Wright',\n",
       "   'subject': 'Chemistry',\n",
       "   'stars': 4,\n",
       "   'review': 'Labs are well-organized, and lectures are informative.'},\n",
       "  {'professor': 'Dr. William Scott',\n",
       "   'subject': 'Biology',\n",
       "   'stars': 5,\n",
       "   'review': 'In-depth knowledge and very supportive during office hours.'}]}"
      ]
     },
     "execution_count": 26,
     "metadata": {},
     "output_type": "execute_result"
    }
   ],
   "source": [
    "data"
   ]
  },
  {
   "cell_type": "code",
   "execution_count": 28,
   "metadata": {},
   "outputs": [],
   "source": [
    "processed_data = []\n",
    "model = genai.GenerativeModel(model_name=\"gemini-1.5-flash\")"
   ]
  },
  {
   "cell_type": "code",
   "execution_count": 43,
   "metadata": {},
   "outputs": [],
   "source": [
    "for reviews in data['reviews']: \n",
    "    result = genai.embed_content(\n",
    "        model=\"models/text-embedding-004\",\n",
    "        content= reviews['review'],\n",
    "        task_type=\"retrieval_document\",\n",
    "    )\n",
    "    processed_data.append({\n",
    "        \"values\":result['embedding'],\n",
    "        \"id\":reviews['professor'],\n",
    "        \"metadata\":{\n",
    "            \"review\":reviews[\"review\"],\n",
    "            \"subject\":reviews[\"subject\"],\n",
    "            \"stars\":reviews[\"stars\"]\n",
    "        }\n",
    "    })\n"
   ]
  },
  {
   "cell_type": "code",
   "execution_count": 47,
   "metadata": {},
   "outputs": [
    {
     "data": {
      "text/plain": [
       "{'upserted_count': 20}"
      ]
     },
     "execution_count": 47,
     "metadata": {},
     "output_type": "execute_result"
    }
   ],
   "source": [
    "index = pc.Index('rag')\n",
    "index.upsert(\n",
    "    vectors= processed_data,\n",
    "    namespace='ns1',\n",
    "    \n",
    ")"
   ]
  },
  {
   "cell_type": "code",
   "execution_count": 48,
   "metadata": {},
   "outputs": [
    {
     "data": {
      "text/plain": [
       "{'dimension': 768,\n",
       " 'index_fullness': 0.0,\n",
       " 'namespaces': {'ns1': {'vector_count': 20}},\n",
       " 'total_vector_count': 20}"
      ]
     },
     "execution_count": 48,
     "metadata": {},
     "output_type": "execute_result"
    }
   ],
   "source": [
    "index.describe_index_stats()"
   ]
  }
 ],
 "metadata": {
  "kernelspec": {
   "display_name": "Python 3",
   "language": "python",
   "name": "python3"
  },
  "language_info": {
   "codemirror_mode": {
    "name": "ipython",
    "version": 3
   },
   "file_extension": ".py",
   "mimetype": "text/x-python",
   "name": "python",
   "nbconvert_exporter": "python",
   "pygments_lexer": "ipython3",
   "version": "3.12.0"
  }
 },
 "nbformat": 4,
 "nbformat_minor": 2
}
